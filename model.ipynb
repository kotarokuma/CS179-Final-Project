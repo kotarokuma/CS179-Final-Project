{
 "cells": [
  {
   "cell_type": "code",
   "id": "initial_id",
   "metadata": {
    "collapsed": true,
    "jupyter": {
     "is_executing": true
    },
    "ExecuteTime": {
     "start_time": "2025-06-11T20:00:17.296608Z"
    }
   },
   "source": [
    "import torch\n",
    "import pyro\n",
    "import pyro.distributions as dist\n",
    "from pyro.infer import SVI, Trace_ELBO\n",
    "from pyro.optim import Adam\n",
    "from torch.utils.data import DataLoader\n",
    "import numpy as np\n",
    "import pandas as pd\n",
    "from sklearn.model_selection import train_test_split\n",
    "\n",
    "# Load datasets\n",
    "try:\n",
    "    ratings_df = pd.read_csv(\"ratings.csv\")\n",
    "    movies_df = pd.read_csv(\"movies.csv\")\n",
    "    print(\"Successfully loaded MovieLens dataset\")\n",
    "except FileNotFoundError:\n",
    "    print(\"ERROR: Dataset files not found.\")\n",
    "    exit()"
   ],
   "outputs": [],
   "execution_count": null
  },
  {
   "metadata": {
    "ExecuteTime": {
     "end_time": "2025-06-11T19:57:07.194682Z",
     "start_time": "2025-06-11T19:57:06.258940Z"
    }
   },
   "cell_type": "code",
   "source": [
    "ratings = {}\n",
    "for i in range(len(ratings_df)):\n",
    "    u = ratings_df[\"userId\"][i] - 1\n",
    "    m = ratings_df[\"movieId\"][i] - 1\n",
    "    r = ratings_df[\"rating\"][i]\n",
    "    ratings[(u, m)] = r\n",
    "\n",
    "data = [(user, movie, rating) for (user, movie), rating in ratings.items()]\n",
    "train_ratings, test_ratings = train_test_split(data, test_size=0.2, random_state=10)"
   ],
   "id": "4c4b78e5f003a92f",
   "outputs": [],
   "execution_count": 2
  },
  {
   "metadata": {
    "ExecuteTime": {
     "end_time": "2025-06-11T19:57:07.261139Z",
     "start_time": "2025-06-11T19:57:07.256461Z"
    }
   },
   "cell_type": "code",
   "source": [
    "# ratings input: list of (i, j, r_ij) tuples\n",
    "def model(ratings, n_users, m_movies, k):\n",
    "    # Priors for user latent factors and bias\n",
    "    with pyro.plate(\"users\", n_users):\n",
    "        nu = pyro.sample(\"nu\", dist.Normal(0., 0.1))\n",
    "        U = pyro.sample(\"U\", dist.MultivariateNormal(torch.zeros(k), torch.eye(k)))\n",
    "    \n",
    "    # Priors for movie latent factors and bias\n",
    "    with pyro.plate(\"movies\", m_movies):\n",
    "        mu = pyro.sample(\"mu\", dist.Normal(0., 0.316))\n",
    "        V = pyro.sample(\"V\", dist.MultivariateNormal(torch.zeros(k), torch.eye(k)))\n",
    "    \n",
    "    sigma = 0.5  # observation noise\n",
    "\n",
    "    # Plate over observed ratings\n",
    "    with pyro.plate(\"observe_data\", len(ratings)):\n",
    "        user = torch.tensor([r[0] for r in ratings])\n",
    "        movie = torch.tensor([r[1] for r in ratings])\n",
    "        observed_rating = torch.tensor([r[2] for r in ratings])\n",
    "\n",
    "        pred = nu[user] + mu[movie] + torch.sum(U[user] * V[movie], dim=1)\n",
    "        pyro.sample(\"obs\", dist.Normal(pred, sigma), obs=observed_rating)"
   ],
   "id": "45aa5f428e6372b4",
   "outputs": [],
   "execution_count": 3
  },
  {
   "metadata": {
    "ExecuteTime": {
     "end_time": "2025-06-11T19:57:07.279520Z",
     "start_time": "2025-06-11T19:57:07.275441Z"
    }
   },
   "cell_type": "code",
   "source": [
    "def guide(ratings, n_users, m_movies, k):\n",
    "    # User bias and latent vectors\n",
    "    nu_loc = pyro.param(\"nu_loc\", torch.zeros(n_users))\n",
    "    nu_scale = pyro.param(\"nu_scale\", torch.ones(n_users), constraint=dist.constraints.positive)\n",
    "\n",
    "    U_loc = pyro.param(\"U_loc\", torch.randn(n_users, k))\n",
    "    U_cov = pyro.param(\"U_cov\", torch.stack([0.1 * torch.eye(k) for _ in range(n_users)]),\n",
    "                       constraint=dist.constraints.positive_definite)\n",
    "    with pyro.plate(\"users\", n_users):\n",
    "        pyro.sample(\"nu\", dist.Normal(nu_loc, nu_scale))\n",
    "        pyro.sample(\"U\", dist.MultivariateNormal(U_loc, U_cov.to(dtype=torch.float32)))\n",
    "\n",
    "    # Movie bias and latent vectors\n",
    "    mu_loc = pyro.param(\"mu_loc\", torch.zeros(m_movies))\n",
    "    mu_scale = pyro.param(\"mu_scale\", torch.ones(m_movies), constraint=dist.constraints.positive)\n",
    "\n",
    "    V_loc = pyro.param(\"V_loc\", torch.randn(m_movies, k))\n",
    "    V_cov = pyro.param(\"V_cov\", torch.stack([0.1 * torch.eye(k) for _ in range(m_movies)]),\n",
    "                       constraint=dist.constraints.positive_definite)\n",
    "    with pyro.plate(\"movies\", m_movies):\n",
    "        pyro.sample(\"mu\", dist.Normal(mu_loc, mu_scale))\n",
    "        pyro.sample(\"V\", dist.MultivariateNormal(V_loc, V_cov.to(dtype=torch.float32)))"
   ],
   "id": "88c3bf8c75db084e",
   "outputs": [],
   "execution_count": 4
  },
  {
   "metadata": {
    "ExecuteTime": {
     "end_time": "2025-06-11T20:00:01.134956Z",
     "start_time": "2025-06-11T19:57:07.297082Z"
    }
   },
   "cell_type": "code",
   "source": [
    "def train_svi(train_ratings, n_users, m_movies, k, num_steps=1500, lr=0.01):\n",
    "    pyro.clear_param_store()\n",
    "    optimizer = Adam({\"lr\": lr})\n",
    "    svi = SVI(model, guide, optimizer, loss=Trace_ELBO())\n",
    "\n",
    "    for step in range(num_steps):\n",
    "        loss = svi.step(train_ratings, n_users, m_movies, k)\n",
    "        if (step + 1) % 100 == 0:\n",
    "            print(f\"Step {step} - ELBO loss: {loss:.2f}\")\n",
    "\n",
    "def predict(i, j, k):\n",
    "    # Extract learned variational parameters\n",
    "    nu_i = pyro.param(\"nu_loc\")[i]\n",
    "    mu_j = pyro.param(\"mu_loc\")[j]\n",
    "    U_i = pyro.param(\"U_loc\")[i]\n",
    "    V_j = pyro.param(\"V_loc\")[j]\n",
    "    return (U_i @ V_j + nu_i + mu_j).item()\n",
    "\n",
    "def predict_with_uncertainty(i, j, k):\n",
    "    # Means\n",
    "    nu_i = pyro.param(\"nu_loc\")[i]\n",
    "    mu_j = pyro.param(\"mu_loc\")[j]\n",
    "    U_i = pyro.param(\"U_loc\")[i]\n",
    "    V_j = pyro.param(\"V_loc\")[j]\n",
    "\n",
    "    # Covariances\n",
    "    U_cov_i = pyro.param(\"U_cov\")[i]\n",
    "    V_cov_j = pyro.param(\"V_cov\")[j]\n",
    "\n",
    "    # Predictive mean\n",
    "    pred_mean = (U_i @ V_j + nu_i + mu_j)\n",
    "\n",
    "    var = (\n",
    "        U_i @ V_cov_j @ U_i\n",
    "        + V_j @ U_cov_i @ V_j\n",
    "        + 0.25  # observation noise squared (sigma^2 = 0.5^2)\n",
    "    )\n",
    "    return pred_mean.item(), torch.sqrt(var).item()\n",
    "\n",
    "def compute_rmse(test_ratings, k):\n",
    "    preds = []\n",
    "    trues = []\n",
    "    for i, j, r in test_ratings:\n",
    "        preds.append(predict(i, j, k))\n",
    "        trues.append(r)\n",
    "    preds = torch.tensor(preds)\n",
    "    trues = torch.tensor(trues)\n",
    "    return torch.sqrt(torch.mean((preds - trues) ** 2)).item()\n",
    "\n",
    "# Train model\n",
    "n_users = ratings_df[\"userId\"].max()\n",
    "m_movies = ratings_df['movieId'].max()\n",
    "k = 2 # Latent dimensions\n",
    "\n",
    "train_svi(train_ratings, n_users, m_movies, k)\n",
    "\n",
    "# Evaluate\n",
    "rmse = compute_rmse(test_ratings, k)\n",
    "print(f\"Test RMSE: {rmse:.4f}\")"
   ],
   "id": "de45aa10a3735829",
   "outputs": [
    {
     "name": "stdout",
     "output_type": "stream",
     "text": [
      "0\n",
      "1\n",
      "2\n",
      "3\n",
      "4\n",
      "5\n",
      "6\n",
      "7\n",
      "8\n",
      "9\n",
      "10\n",
      "11\n",
      "12\n",
      "13\n",
      "14\n",
      "15\n",
      "16\n",
      "17\n",
      "18\n",
      "19\n",
      "20\n",
      "21\n",
      "22\n",
      "23\n",
      "24\n",
      "25\n",
      "26\n",
      "27\n",
      "28\n",
      "29\n",
      "30\n",
      "31\n",
      "32\n",
      "33\n",
      "34\n",
      "35\n",
      "36\n",
      "37\n",
      "38\n",
      "39\n",
      "40\n",
      "41\n",
      "42\n",
      "43\n",
      "44\n",
      "45\n",
      "46\n",
      "47\n",
      "48\n",
      "49\n",
      "50\n",
      "51\n",
      "52\n",
      "53\n",
      "54\n",
      "55\n",
      "56\n",
      "57\n",
      "58\n",
      "59\n",
      "60\n",
      "61\n",
      "62\n",
      "63\n",
      "64\n",
      "65\n",
      "66\n",
      "67\n",
      "68\n",
      "69\n",
      "70\n",
      "71\n"
     ]
    },
    {
     "ename": "KeyboardInterrupt",
     "evalue": "",
     "output_type": "error",
     "traceback": [
      "\u001B[0;31m---------------------------------------------------------------------------\u001B[0m",
      "\u001B[0;31mKeyboardInterrupt\u001B[0m                         Traceback (most recent call last)",
      "Cell \u001B[0;32mIn[5], line 56\u001B[0m\n\u001B[1;32m     53\u001B[0m m_movies \u001B[38;5;241m=\u001B[39m ratings_df[\u001B[38;5;124m'\u001B[39m\u001B[38;5;124mmovieId\u001B[39m\u001B[38;5;124m'\u001B[39m]\u001B[38;5;241m.\u001B[39mmax()\n\u001B[1;32m     54\u001B[0m k \u001B[38;5;241m=\u001B[39m \u001B[38;5;241m2\u001B[39m \u001B[38;5;66;03m# Latent dimensions\u001B[39;00m\n\u001B[0;32m---> 56\u001B[0m \u001B[43mtrain_svi\u001B[49m\u001B[43m(\u001B[49m\u001B[43mtrain_ratings\u001B[49m\u001B[43m,\u001B[49m\u001B[43m \u001B[49m\u001B[43mn_users\u001B[49m\u001B[43m,\u001B[49m\u001B[43m \u001B[49m\u001B[43mm_movies\u001B[49m\u001B[43m,\u001B[49m\u001B[43m \u001B[49m\u001B[43mk\u001B[49m\u001B[43m)\u001B[49m\n\u001B[1;32m     58\u001B[0m \u001B[38;5;66;03m# Evaluate\u001B[39;00m\n\u001B[1;32m     59\u001B[0m rmse \u001B[38;5;241m=\u001B[39m compute_rmse(test_ratings, k)\n",
      "Cell \u001B[0;32mIn[5], line 7\u001B[0m, in \u001B[0;36mtrain_svi\u001B[0;34m(train_ratings, n_users, m_movies, k, num_steps, lr)\u001B[0m\n\u001B[1;32m      4\u001B[0m svi \u001B[38;5;241m=\u001B[39m SVI(model, guide, optimizer, loss\u001B[38;5;241m=\u001B[39mTrace_ELBO())\n\u001B[1;32m      6\u001B[0m \u001B[38;5;28;01mfor\u001B[39;00m step \u001B[38;5;129;01min\u001B[39;00m \u001B[38;5;28mrange\u001B[39m(num_steps):\n\u001B[0;32m----> 7\u001B[0m     loss \u001B[38;5;241m=\u001B[39m \u001B[43msvi\u001B[49m\u001B[38;5;241;43m.\u001B[39;49m\u001B[43mstep\u001B[49m\u001B[43m(\u001B[49m\u001B[43mtrain_ratings\u001B[49m\u001B[43m,\u001B[49m\u001B[43m \u001B[49m\u001B[43mn_users\u001B[49m\u001B[43m,\u001B[49m\u001B[43m \u001B[49m\u001B[43mm_movies\u001B[49m\u001B[43m,\u001B[49m\u001B[43m \u001B[49m\u001B[43mk\u001B[49m\u001B[43m)\u001B[49m\n\u001B[1;32m      8\u001B[0m     \u001B[38;5;28mprint\u001B[39m(step, flush\u001B[38;5;241m=\u001B[39m\u001B[38;5;28;01mTrue\u001B[39;00m)\n\u001B[1;32m      9\u001B[0m     \u001B[38;5;28;01mif\u001B[39;00m (step \u001B[38;5;241m+\u001B[39m \u001B[38;5;241m1\u001B[39m) \u001B[38;5;241m%\u001B[39m \u001B[38;5;241m100\u001B[39m \u001B[38;5;241m==\u001B[39m \u001B[38;5;241m0\u001B[39m:\n",
      "File \u001B[0;32m/Library/Frameworks/Python.framework/Versions/3.11/lib/python3.11/site-packages/pyro/infer/svi.py:145\u001B[0m, in \u001B[0;36mSVI.step\u001B[0;34m(self, *args, **kwargs)\u001B[0m\n\u001B[1;32m    143\u001B[0m \u001B[38;5;66;03m# get loss and compute gradients\u001B[39;00m\n\u001B[1;32m    144\u001B[0m \u001B[38;5;28;01mwith\u001B[39;00m poutine\u001B[38;5;241m.\u001B[39mtrace(param_only\u001B[38;5;241m=\u001B[39m\u001B[38;5;28;01mTrue\u001B[39;00m) \u001B[38;5;28;01mas\u001B[39;00m param_capture:\n\u001B[0;32m--> 145\u001B[0m     loss \u001B[38;5;241m=\u001B[39m \u001B[38;5;28;43mself\u001B[39;49m\u001B[38;5;241;43m.\u001B[39;49m\u001B[43mloss_and_grads\u001B[49m\u001B[43m(\u001B[49m\u001B[38;5;28;43mself\u001B[39;49m\u001B[38;5;241;43m.\u001B[39;49m\u001B[43mmodel\u001B[49m\u001B[43m,\u001B[49m\u001B[43m \u001B[49m\u001B[38;5;28;43mself\u001B[39;49m\u001B[38;5;241;43m.\u001B[39;49m\u001B[43mguide\u001B[49m\u001B[43m,\u001B[49m\u001B[43m \u001B[49m\u001B[38;5;241;43m*\u001B[39;49m\u001B[43margs\u001B[49m\u001B[43m,\u001B[49m\u001B[43m \u001B[49m\u001B[38;5;241;43m*\u001B[39;49m\u001B[38;5;241;43m*\u001B[39;49m\u001B[43mkwargs\u001B[49m\u001B[43m)\u001B[49m\n\u001B[1;32m    147\u001B[0m params \u001B[38;5;241m=\u001B[39m \u001B[38;5;28mset\u001B[39m(\n\u001B[1;32m    148\u001B[0m     site[\u001B[38;5;124m\"\u001B[39m\u001B[38;5;124mvalue\u001B[39m\u001B[38;5;124m\"\u001B[39m]\u001B[38;5;241m.\u001B[39munconstrained() \u001B[38;5;28;01mfor\u001B[39;00m site \u001B[38;5;129;01min\u001B[39;00m param_capture\u001B[38;5;241m.\u001B[39mtrace\u001B[38;5;241m.\u001B[39mnodes\u001B[38;5;241m.\u001B[39mvalues()\n\u001B[1;32m    149\u001B[0m )\n\u001B[1;32m    151\u001B[0m \u001B[38;5;66;03m# actually perform gradient steps\u001B[39;00m\n\u001B[1;32m    152\u001B[0m \u001B[38;5;66;03m# torch.optim objects gets instantiated for any params that haven't been seen yet\u001B[39;00m\n",
      "File \u001B[0;32m/Library/Frameworks/Python.framework/Versions/3.11/lib/python3.11/site-packages/pyro/infer/trace_elbo.py:140\u001B[0m, in \u001B[0;36mTrace_ELBO.loss_and_grads\u001B[0;34m(self, model, guide, *args, **kwargs)\u001B[0m\n\u001B[1;32m    138\u001B[0m loss \u001B[38;5;241m=\u001B[39m \u001B[38;5;241m0.0\u001B[39m\n\u001B[1;32m    139\u001B[0m \u001B[38;5;66;03m# grab a trace from the generator\u001B[39;00m\n\u001B[0;32m--> 140\u001B[0m \u001B[38;5;28;01mfor\u001B[39;00m model_trace, guide_trace \u001B[38;5;129;01min\u001B[39;00m \u001B[38;5;28mself\u001B[39m\u001B[38;5;241m.\u001B[39m_get_traces(model, guide, args, kwargs):\n\u001B[1;32m    141\u001B[0m     loss_particle, surrogate_loss_particle \u001B[38;5;241m=\u001B[39m \u001B[38;5;28mself\u001B[39m\u001B[38;5;241m.\u001B[39m_differentiable_loss_particle(\n\u001B[1;32m    142\u001B[0m         model_trace, guide_trace\n\u001B[1;32m    143\u001B[0m     )\n\u001B[1;32m    144\u001B[0m     loss \u001B[38;5;241m+\u001B[39m\u001B[38;5;241m=\u001B[39m loss_particle \u001B[38;5;241m/\u001B[39m \u001B[38;5;28mself\u001B[39m\u001B[38;5;241m.\u001B[39mnum_particles\n",
      "File \u001B[0;32m/Library/Frameworks/Python.framework/Versions/3.11/lib/python3.11/site-packages/pyro/infer/elbo.py:237\u001B[0m, in \u001B[0;36mELBO._get_traces\u001B[0;34m(self, model, guide, args, kwargs)\u001B[0m\n\u001B[1;32m    235\u001B[0m \u001B[38;5;28;01melse\u001B[39;00m:\n\u001B[1;32m    236\u001B[0m     \u001B[38;5;28;01mfor\u001B[39;00m i \u001B[38;5;129;01min\u001B[39;00m \u001B[38;5;28mrange\u001B[39m(\u001B[38;5;28mself\u001B[39m\u001B[38;5;241m.\u001B[39mnum_particles):\n\u001B[0;32m--> 237\u001B[0m         \u001B[38;5;28;01myield\u001B[39;00m \u001B[38;5;28;43mself\u001B[39;49m\u001B[38;5;241;43m.\u001B[39;49m\u001B[43m_get_trace\u001B[49m\u001B[43m(\u001B[49m\u001B[43mmodel\u001B[49m\u001B[43m,\u001B[49m\u001B[43m \u001B[49m\u001B[43mguide\u001B[49m\u001B[43m,\u001B[49m\u001B[43m \u001B[49m\u001B[43margs\u001B[49m\u001B[43m,\u001B[49m\u001B[43m \u001B[49m\u001B[43mkwargs\u001B[49m\u001B[43m)\u001B[49m\n",
      "File \u001B[0;32m/Library/Frameworks/Python.framework/Versions/3.11/lib/python3.11/site-packages/pyro/infer/trace_elbo.py:57\u001B[0m, in \u001B[0;36mTrace_ELBO._get_trace\u001B[0;34m(self, model, guide, args, kwargs)\u001B[0m\n\u001B[1;32m     52\u001B[0m \u001B[38;5;28;01mdef\u001B[39;00m \u001B[38;5;21m_get_trace\u001B[39m(\u001B[38;5;28mself\u001B[39m, model, guide, args, kwargs):\n\u001B[1;32m     53\u001B[0m \u001B[38;5;250m    \u001B[39m\u001B[38;5;124;03m\"\"\"\u001B[39;00m\n\u001B[1;32m     54\u001B[0m \u001B[38;5;124;03m    Returns a single trace from the guide, and the model that is run\u001B[39;00m\n\u001B[1;32m     55\u001B[0m \u001B[38;5;124;03m    against it.\u001B[39;00m\n\u001B[1;32m     56\u001B[0m \u001B[38;5;124;03m    \"\"\"\u001B[39;00m\n\u001B[0;32m---> 57\u001B[0m     model_trace, guide_trace \u001B[38;5;241m=\u001B[39m \u001B[43mget_importance_trace\u001B[49m\u001B[43m(\u001B[49m\n\u001B[1;32m     58\u001B[0m \u001B[43m        \u001B[49m\u001B[38;5;124;43m\"\u001B[39;49m\u001B[38;5;124;43mflat\u001B[39;49m\u001B[38;5;124;43m\"\u001B[39;49m\u001B[43m,\u001B[49m\u001B[43m \u001B[49m\u001B[38;5;28;43mself\u001B[39;49m\u001B[38;5;241;43m.\u001B[39;49m\u001B[43mmax_plate_nesting\u001B[49m\u001B[43m,\u001B[49m\u001B[43m \u001B[49m\u001B[43mmodel\u001B[49m\u001B[43m,\u001B[49m\u001B[43m \u001B[49m\u001B[43mguide\u001B[49m\u001B[43m,\u001B[49m\u001B[43m \u001B[49m\u001B[43margs\u001B[49m\u001B[43m,\u001B[49m\u001B[43m \u001B[49m\u001B[43mkwargs\u001B[49m\n\u001B[1;32m     59\u001B[0m \u001B[43m    \u001B[49m\u001B[43m)\u001B[49m\n\u001B[1;32m     60\u001B[0m     \u001B[38;5;28;01mif\u001B[39;00m is_validation_enabled():\n\u001B[1;32m     61\u001B[0m         check_if_enumerated(guide_trace)\n",
      "File \u001B[0;32m/Library/Frameworks/Python.framework/Versions/3.11/lib/python3.11/site-packages/pyro/infer/enum.py:60\u001B[0m, in \u001B[0;36mget_importance_trace\u001B[0;34m(graph_type, max_plate_nesting, model, guide, args, kwargs, detach)\u001B[0m\n\u001B[1;32m     58\u001B[0m     model_trace, guide_trace \u001B[38;5;241m=\u001B[39m unwrapped_guide\u001B[38;5;241m.\u001B[39mget_traces()\n\u001B[1;32m     59\u001B[0m \u001B[38;5;28;01melse\u001B[39;00m:\n\u001B[0;32m---> 60\u001B[0m     guide_trace \u001B[38;5;241m=\u001B[39m \u001B[43mpoutine\u001B[49m\u001B[38;5;241;43m.\u001B[39;49m\u001B[43mtrace\u001B[49m\u001B[43m(\u001B[49m\u001B[43mguide\u001B[49m\u001B[43m,\u001B[49m\u001B[43m \u001B[49m\u001B[43mgraph_type\u001B[49m\u001B[38;5;241;43m=\u001B[39;49m\u001B[43mgraph_type\u001B[49m\u001B[43m)\u001B[49m\u001B[38;5;241;43m.\u001B[39;49m\u001B[43mget_trace\u001B[49m\u001B[43m(\u001B[49m\n\u001B[1;32m     61\u001B[0m \u001B[43m        \u001B[49m\u001B[38;5;241;43m*\u001B[39;49m\u001B[43margs\u001B[49m\u001B[43m,\u001B[49m\u001B[43m \u001B[49m\u001B[38;5;241;43m*\u001B[39;49m\u001B[38;5;241;43m*\u001B[39;49m\u001B[43mkwargs\u001B[49m\n\u001B[1;32m     62\u001B[0m \u001B[43m    \u001B[49m\u001B[43m)\u001B[49m\n\u001B[1;32m     63\u001B[0m     \u001B[38;5;28;01mif\u001B[39;00m detach:\n\u001B[1;32m     64\u001B[0m         guide_trace\u001B[38;5;241m.\u001B[39mdetach_()\n",
      "File \u001B[0;32m/Library/Frameworks/Python.framework/Versions/3.11/lib/python3.11/site-packages/pyro/poutine/trace_messenger.py:216\u001B[0m, in \u001B[0;36mTraceHandler.get_trace\u001B[0;34m(self, *args, **kwargs)\u001B[0m\n\u001B[1;32m    208\u001B[0m \u001B[38;5;28;01mdef\u001B[39;00m \u001B[38;5;21mget_trace\u001B[39m(\u001B[38;5;28mself\u001B[39m, \u001B[38;5;241m*\u001B[39margs, \u001B[38;5;241m*\u001B[39m\u001B[38;5;241m*\u001B[39mkwargs) \u001B[38;5;241m-\u001B[39m\u001B[38;5;241m>\u001B[39m Trace:\n\u001B[1;32m    209\u001B[0m \u001B[38;5;250m    \u001B[39m\u001B[38;5;124;03m\"\"\"\u001B[39;00m\n\u001B[1;32m    210\u001B[0m \u001B[38;5;124;03m    :returns: data structure\u001B[39;00m\n\u001B[1;32m    211\u001B[0m \u001B[38;5;124;03m    :rtype: pyro.poutine.Trace\u001B[39;00m\n\u001B[0;32m   (...)\u001B[0m\n\u001B[1;32m    214\u001B[0m \u001B[38;5;124;03m    Calls this poutine and returns its trace instead of the function's return value.\u001B[39;00m\n\u001B[1;32m    215\u001B[0m \u001B[38;5;124;03m    \"\"\"\u001B[39;00m\n\u001B[0;32m--> 216\u001B[0m     \u001B[38;5;28;43mself\u001B[39;49m\u001B[43m(\u001B[49m\u001B[38;5;241;43m*\u001B[39;49m\u001B[43margs\u001B[49m\u001B[43m,\u001B[49m\u001B[43m \u001B[49m\u001B[38;5;241;43m*\u001B[39;49m\u001B[38;5;241;43m*\u001B[39;49m\u001B[43mkwargs\u001B[49m\u001B[43m)\u001B[49m\n\u001B[1;32m    217\u001B[0m     \u001B[38;5;28;01mreturn\u001B[39;00m \u001B[38;5;28mself\u001B[39m\u001B[38;5;241m.\u001B[39mmsngr\u001B[38;5;241m.\u001B[39mget_trace()\n",
      "File \u001B[0;32m/Library/Frameworks/Python.framework/Versions/3.11/lib/python3.11/site-packages/pyro/poutine/trace_messenger.py:191\u001B[0m, in \u001B[0;36mTraceHandler.__call__\u001B[0;34m(self, *args, **kwargs)\u001B[0m\n\u001B[1;32m    187\u001B[0m \u001B[38;5;28mself\u001B[39m\u001B[38;5;241m.\u001B[39mmsngr\u001B[38;5;241m.\u001B[39mtrace\u001B[38;5;241m.\u001B[39madd_node(\n\u001B[1;32m    188\u001B[0m     \u001B[38;5;124m\"\u001B[39m\u001B[38;5;124m_INPUT\u001B[39m\u001B[38;5;124m\"\u001B[39m, name\u001B[38;5;241m=\u001B[39m\u001B[38;5;124m\"\u001B[39m\u001B[38;5;124m_INPUT\u001B[39m\u001B[38;5;124m\"\u001B[39m, \u001B[38;5;28mtype\u001B[39m\u001B[38;5;241m=\u001B[39m\u001B[38;5;124m\"\u001B[39m\u001B[38;5;124margs\u001B[39m\u001B[38;5;124m\"\u001B[39m, args\u001B[38;5;241m=\u001B[39margs, kwargs\u001B[38;5;241m=\u001B[39mkwargs\n\u001B[1;32m    189\u001B[0m )\n\u001B[1;32m    190\u001B[0m \u001B[38;5;28;01mtry\u001B[39;00m:\n\u001B[0;32m--> 191\u001B[0m     ret \u001B[38;5;241m=\u001B[39m \u001B[38;5;28;43mself\u001B[39;49m\u001B[38;5;241;43m.\u001B[39;49m\u001B[43mfn\u001B[49m\u001B[43m(\u001B[49m\u001B[38;5;241;43m*\u001B[39;49m\u001B[43margs\u001B[49m\u001B[43m,\u001B[49m\u001B[43m \u001B[49m\u001B[38;5;241;43m*\u001B[39;49m\u001B[38;5;241;43m*\u001B[39;49m\u001B[43mkwargs\u001B[49m\u001B[43m)\u001B[49m\n\u001B[1;32m    192\u001B[0m \u001B[38;5;28;01mexcept\u001B[39;00m (\u001B[38;5;167;01mValueError\u001B[39;00m, \u001B[38;5;167;01mRuntimeError\u001B[39;00m) \u001B[38;5;28;01mas\u001B[39;00m e:\n\u001B[1;32m    193\u001B[0m     exc_type, exc_value, traceback \u001B[38;5;241m=\u001B[39m sys\u001B[38;5;241m.\u001B[39mexc_info()\n",
      "Cell \u001B[0;32mIn[4], line 18\u001B[0m, in \u001B[0;36mguide\u001B[0;34m(ratings, n_users, m_movies, k)\u001B[0m\n\u001B[1;32m     15\u001B[0m mu_scale \u001B[38;5;241m=\u001B[39m pyro\u001B[38;5;241m.\u001B[39mparam(\u001B[38;5;124m\"\u001B[39m\u001B[38;5;124mmu_scale\u001B[39m\u001B[38;5;124m\"\u001B[39m, torch\u001B[38;5;241m.\u001B[39mones(m_movies), constraint\u001B[38;5;241m=\u001B[39mdist\u001B[38;5;241m.\u001B[39mconstraints\u001B[38;5;241m.\u001B[39mpositive)\n\u001B[1;32m     17\u001B[0m V_loc \u001B[38;5;241m=\u001B[39m pyro\u001B[38;5;241m.\u001B[39mparam(\u001B[38;5;124m\"\u001B[39m\u001B[38;5;124mV_loc\u001B[39m\u001B[38;5;124m\"\u001B[39m, torch\u001B[38;5;241m.\u001B[39mrandn(m_movies, k))\n\u001B[0;32m---> 18\u001B[0m V_cov \u001B[38;5;241m=\u001B[39m pyro\u001B[38;5;241m.\u001B[39mparam(\u001B[38;5;124m\"\u001B[39m\u001B[38;5;124mV_cov\u001B[39m\u001B[38;5;124m\"\u001B[39m, torch\u001B[38;5;241m.\u001B[39mstack(\u001B[43m[\u001B[49m\u001B[38;5;241;43m0.1\u001B[39;49m\u001B[43m \u001B[49m\u001B[38;5;241;43m*\u001B[39;49m\u001B[43m \u001B[49m\u001B[43mtorch\u001B[49m\u001B[38;5;241;43m.\u001B[39;49m\u001B[43meye\u001B[49m\u001B[43m(\u001B[49m\u001B[43mk\u001B[49m\u001B[43m)\u001B[49m\u001B[43m \u001B[49m\u001B[38;5;28;43;01mfor\u001B[39;49;00m\u001B[43m \u001B[49m\u001B[43m_\u001B[49m\u001B[43m \u001B[49m\u001B[38;5;129;43;01min\u001B[39;49;00m\u001B[43m \u001B[49m\u001B[38;5;28;43mrange\u001B[39;49m\u001B[43m(\u001B[49m\u001B[43mm_movies\u001B[49m\u001B[43m)\u001B[49m\u001B[43m]\u001B[49m),\n\u001B[1;32m     19\u001B[0m                    constraint\u001B[38;5;241m=\u001B[39mdist\u001B[38;5;241m.\u001B[39mconstraints\u001B[38;5;241m.\u001B[39mpositive_definite)\n\u001B[1;32m     20\u001B[0m \u001B[38;5;28;01mwith\u001B[39;00m pyro\u001B[38;5;241m.\u001B[39mplate(\u001B[38;5;124m\"\u001B[39m\u001B[38;5;124mmovies\u001B[39m\u001B[38;5;124m\"\u001B[39m, m_movies):\n\u001B[1;32m     21\u001B[0m     pyro\u001B[38;5;241m.\u001B[39msample(\u001B[38;5;124m\"\u001B[39m\u001B[38;5;124mmu\u001B[39m\u001B[38;5;124m\"\u001B[39m, dist\u001B[38;5;241m.\u001B[39mNormal(mu_loc, mu_scale))\n",
      "Cell \u001B[0;32mIn[4], line 18\u001B[0m, in \u001B[0;36m<listcomp>\u001B[0;34m(.0)\u001B[0m\n\u001B[1;32m     15\u001B[0m mu_scale \u001B[38;5;241m=\u001B[39m pyro\u001B[38;5;241m.\u001B[39mparam(\u001B[38;5;124m\"\u001B[39m\u001B[38;5;124mmu_scale\u001B[39m\u001B[38;5;124m\"\u001B[39m, torch\u001B[38;5;241m.\u001B[39mones(m_movies), constraint\u001B[38;5;241m=\u001B[39mdist\u001B[38;5;241m.\u001B[39mconstraints\u001B[38;5;241m.\u001B[39mpositive)\n\u001B[1;32m     17\u001B[0m V_loc \u001B[38;5;241m=\u001B[39m pyro\u001B[38;5;241m.\u001B[39mparam(\u001B[38;5;124m\"\u001B[39m\u001B[38;5;124mV_loc\u001B[39m\u001B[38;5;124m\"\u001B[39m, torch\u001B[38;5;241m.\u001B[39mrandn(m_movies, k))\n\u001B[0;32m---> 18\u001B[0m V_cov \u001B[38;5;241m=\u001B[39m pyro\u001B[38;5;241m.\u001B[39mparam(\u001B[38;5;124m\"\u001B[39m\u001B[38;5;124mV_cov\u001B[39m\u001B[38;5;124m\"\u001B[39m, torch\u001B[38;5;241m.\u001B[39mstack([\u001B[38;5;241m0.1\u001B[39m \u001B[38;5;241m*\u001B[39m torch\u001B[38;5;241m.\u001B[39meye(k) \u001B[38;5;28;01mfor\u001B[39;00m _ \u001B[38;5;129;01min\u001B[39;00m \u001B[38;5;28mrange\u001B[39m(m_movies)]),\n\u001B[1;32m     19\u001B[0m                    constraint\u001B[38;5;241m=\u001B[39mdist\u001B[38;5;241m.\u001B[39mconstraints\u001B[38;5;241m.\u001B[39mpositive_definite)\n\u001B[1;32m     20\u001B[0m \u001B[38;5;28;01mwith\u001B[39;00m pyro\u001B[38;5;241m.\u001B[39mplate(\u001B[38;5;124m\"\u001B[39m\u001B[38;5;124mmovies\u001B[39m\u001B[38;5;124m\"\u001B[39m, m_movies):\n\u001B[1;32m     21\u001B[0m     pyro\u001B[38;5;241m.\u001B[39msample(\u001B[38;5;124m\"\u001B[39m\u001B[38;5;124mmu\u001B[39m\u001B[38;5;124m\"\u001B[39m, dist\u001B[38;5;241m.\u001B[39mNormal(mu_loc, mu_scale))\n",
      "\u001B[0;31mKeyboardInterrupt\u001B[0m: "
     ]
    }
   ],
   "execution_count": 5
  }
 ],
 "metadata": {
  "kernelspec": {
   "display_name": "Python 3",
   "language": "python",
   "name": "python3"
  },
  "language_info": {
   "codemirror_mode": {
    "name": "ipython",
    "version": 2
   },
   "file_extension": ".py",
   "mimetype": "text/x-python",
   "name": "python",
   "nbconvert_exporter": "python",
   "pygments_lexer": "ipython2",
   "version": "2.7.6"
  }
 },
 "nbformat": 4,
 "nbformat_minor": 5
}
