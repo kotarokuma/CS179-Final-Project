{
 "cells": [
  {
   "cell_type": "code",
   "id": "initial_id",
   "metadata": {
    "collapsed": true,
    "ExecuteTime": {
     "end_time": "2025-06-11T18:00:42.957244Z",
     "start_time": "2025-06-11T18:00:39.851478Z"
    }
   },
   "source": [
    "import torch\n",
    "import pyro\n",
    "import pyro.distributions as dist\n",
    "from pyro.infer import SVI, Trace_ELBO\n",
    "from pyro.optim import Adam\n",
    "from torch.utils.data import DataLoader\n",
    "import numpy as np\n",
    "import pandas as pd\n",
    "from sklearn.model_selection import train_test_split\n",
    "\n",
    "# Load datasets\n",
    "try:\n",
    "    ratings_df = pd.read_csv(\"ratings.csv\")\n",
    "    movies_df = pd.read_csv(\"movies.csv\")\n",
    "    print(\"Successfully loaded MovieLens dataset\")\n",
    "except FileNotFoundError:\n",
    "    print(\"ERROR: Dataset files not found.\")\n",
    "    exit()"
   ],
   "outputs": [
    {
     "name": "stdout",
     "output_type": "stream",
     "text": [
      "Successfully loaded MovieLens dataset\n"
     ]
    }
   ],
   "execution_count": 9
  },
  {
   "metadata": {
    "ExecuteTime": {
     "end_time": "2025-06-11T18:01:07.011261Z",
     "start_time": "2025-06-11T18:01:07.004295Z"
    }
   },
   "cell_type": "code",
   "source": [
    "ratings = {}\n",
    "for i in range(len(ratings_df)):\n",
    "    u = ratings_df[\"userId\"][i]\n",
    "    m = ratings_df[\"movieId\"][i]\n",
    "    r = ratings_df[\"rating\"][i]\n",
    "    ratings[(u, m)] = r\n",
    "\n",
    "data = [(user, movie, rating) for (user, movie), rating in ratings.items()]\n",
    "train_ratings, test_ratings = train_test_split(data, test_size=0.2, random_state=10)"
   ],
   "id": "4c4b78e5f003a92f",
   "outputs": [
    {
     "name": "stdout",
     "output_type": "stream",
     "text": [
      "100836\n"
     ]
    }
   ],
   "execution_count": 10
  },
  {
   "metadata": {},
   "cell_type": "code",
   "outputs": [],
   "execution_count": null,
   "source": [
    "# ratings input: list of (i, j, r_ij) tuples\n",
    "def model(ratings, n_users, m_movies, k):\n",
    "    # Priors for user latent factors and bias\n",
    "    with pyro.plate(\"users\", n_users):\n",
    "        nu = pyro.sample(\"nu\", dist.Normal(0., 0.1))\n",
    "        U = pyro.sample(\"U\", dist.MultivariateNormal(torch.zeros(k), torch.eye(k)))\n",
    "    \n",
    "    # Priors for movie latent factors and bias\n",
    "    with pyro.plate(\"movies\", m_movies):\n",
    "        mu = pyro.sample(\"mu\", dist.Normal(0., 0.316))\n",
    "        V = pyro.sample(\"V\", dist.MultivariateNormal(torch.zeros(k), torch.eye(k)))\n",
    "    \n",
    "    sigma = 0.5  # observation noise\n",
    "\n",
    "    # Plate over observed ratings\n",
    "    with pyro.plate(\"observe_data\", len(ratings)):\n",
    "        users = torch.tensor([r[0] for r in ratings])\n",
    "        items = torch.tensor([r[1] for r in ratings])\n",
    "        observed_ratings = torch.tensor([r[2] for r in ratings])\n",
    "\n",
    "        pred = nu[users] + mu[items] + torch.sum(U[users] * V[items], dim=1)\n",
    "        pyro.sample(\"obs\", dist.Normal(pred, sigma), obs=observed_ratings)"
   ],
   "id": "45aa5f428e6372b4"
  }
 ],
 "metadata": {
  "kernelspec": {
   "display_name": "Python 3",
   "language": "python",
   "name": "python3"
  },
  "language_info": {
   "codemirror_mode": {
    "name": "ipython",
    "version": 2
   },
   "file_extension": ".py",
   "mimetype": "text/x-python",
   "name": "python",
   "nbconvert_exporter": "python",
   "pygments_lexer": "ipython2",
   "version": "2.7.6"
  }
 },
 "nbformat": 4,
 "nbformat_minor": 5
}
