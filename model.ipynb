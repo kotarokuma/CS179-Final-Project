{
 "cells": [
  {
   "cell_type": "code",
   "id": "initial_id",
   "metadata": {
    "collapsed": true,
    "ExecuteTime": {
     "end_time": "2025-06-11T18:00:42.957244Z",
     "start_time": "2025-06-11T18:00:39.851478Z"
    }
   },
   "source": [
    "import torch\n",
    "import pyro\n",
    "import pyro.distributions as dist\n",
    "from pyro.infer import SVI, Trace_ELBO\n",
    "from pyro.optim import Adam\n",
    "from torch.utils.data import DataLoader\n",
    "import numpy as np\n",
    "import pandas as pd\n",
    "from sklearn.model_selection import train_test_split\n",
    "\n",
    "# Load datasets\n",
    "try:\n",
    "    ratings_df = pd.read_csv(\"ratings.csv\")\n",
    "    movies_df = pd.read_csv(\"movies.csv\")\n",
    "    print(\"Successfully loaded MovieLens dataset\")\n",
    "except FileNotFoundError:\n",
    "    print(\"ERROR: Dataset files not found.\")\n",
    "    exit()"
   ],
   "outputs": [
    {
     "name": "stdout",
     "output_type": "stream",
     "text": [
      "Successfully loaded MovieLens dataset\n"
     ]
    }
   ],
   "execution_count": 9
  },
  {
   "metadata": {
    "ExecuteTime": {
     "end_time": "2025-06-11T18:01:07.011261Z",
     "start_time": "2025-06-11T18:01:07.004295Z"
    }
   },
   "cell_type": "code",
   "source": [
    "ratings = {}\n",
    "for i in range(len(ratings_df)):\n",
    "    u = ratings_df[\"userId\"][i]\n",
    "    m = ratings_df[\"movieId\"][i]\n",
    "    r = ratings_df[\"rating\"][i]\n",
    "    ratings[(u, m)] = r\n",
    "\n",
    "data = [(user, movie, rating) for (user, movie), rating in ratings.items()]\n",
    "train_ratings, test_ratings = train_test_split(data, test_size=0.2, random_state=10)"
   ],
   "id": "4c4b78e5f003a92f",
   "outputs": [
    {
     "name": "stdout",
     "output_type": "stream",
     "text": [
      "100836\n"
     ]
    }
   ],
   "execution_count": 10
  },
  {
   "metadata": {},
   "cell_type": "code",
   "outputs": [],
   "execution_count": null,
   "source": [
    "# ratings input: list of (i, j, r_ij) tuples\n",
    "def model(ratings, n_users, m_movies, k):\n",
    "    # Priors for user latent factors and bias\n",
    "    with pyro.plate(\"users\", n_users):\n",
    "        nu = pyro.sample(\"nu\", dist.Normal(0., 0.1))\n",
    "        U = pyro.sample(\"U\", dist.MultivariateNormal(torch.zeros(k), torch.eye(k)))\n",
    "    \n",
    "    # Priors for movie latent factors and bias\n",
    "    with pyro.plate(\"movies\", m_movies):\n",
    "        mu = pyro.sample(\"mu\", dist.Normal(0., 0.316))\n",
    "        V = pyro.sample(\"V\", dist.MultivariateNormal(torch.zeros(k), torch.eye(k)))\n",
    "    \n",
    "    sigma = 0.5  # observation noise\n",
    "\n",
    "    # Plate over observed ratings\n",
    "    with pyro.plate(\"observe_data\", len(ratings)):\n",
    "        user = torch.tensor([r[0] for r in ratings])\n",
    "        movie = torch.tensor([r[1] for r in ratings])\n",
    "        observed_rating = torch.tensor([r[2] for r in ratings])\n",
    "\n",
    "        pred = nu[user] + mu[movie] + torch.sum(U[user] * V[movie], dim=1)\n",
    "        pyro.sample(\"obs\", dist.Normal(pred, sigma), obs=observed_rating)"
   ],
   "id": "45aa5f428e6372b4"
  },
  {
   "metadata": {},
   "cell_type": "code",
   "outputs": [],
   "execution_count": null,
   "source": [
    "def guide(ratings, n_users, m_movies, k):\n",
    "    # User bias and latent vectors\n",
    "    nu_loc = pyro.param(\"nu_loc\", torch.zeros(n_users))\n",
    "    nu_scale = pyro.param(\"nu_scale\", torch.ones(n_users), constraint=dist.constraints.positive)\n",
    "\n",
    "    U_loc = pyro.param(\"U_loc\", torch.randn(n_users, k))\n",
    "    U_cov = pyro.param(\"U_cov\", torch.stack([0.1 * torch.eye(k) for _ in range(n_users)]),\n",
    "                       constraint=dist.constraints.positive_definite)\n",
    "\n",
    "    pyro.sample(\"nu\", dist.Normal(nu_loc, nu_scale))\n",
    "    pyro.sample(\"U\", dist.MultivariateNormal(U_loc, U_cov.to(dtype=torch.float32)))\n",
    "\n",
    "    # Movie bias and latent vectors\n",
    "    mu_loc = pyro.param(\"mu_loc\", torch.zeros(m_movies))\n",
    "    mu_scale = pyro.param(\"mu_scale\", torch.ones(m_movies), constraint=dist.constraints.positive)\n",
    "\n",
    "    V_loc = pyro.param(\"V_loc\", torch.randn(m_movies, k))\n",
    "    V_cov = pyro.param(\"V_cov\", torch.stack([0.1 * torch.eye(k) for _ in range(m_movies)]),\n",
    "                       constraint=dist.constraints.positive_definite)\n",
    "\n",
    "    pyro.sample(\"mu\", dist.Normal(mu_loc, mu_scale))\n",
    "    pyro.sample(\"V\", dist.MultivariateNormal(V_loc, V_cov.to(dtype=torch.float32)))"
   ],
   "id": "88c3bf8c75db084e"
  },
  {
   "metadata": {},
   "cell_type": "code",
   "outputs": [],
   "execution_count": null,
   "source": "",
   "id": "de45aa10a3735829"
  }
 ],
 "metadata": {
  "kernelspec": {
   "display_name": "Python 3",
   "language": "python",
   "name": "python3"
  },
  "language_info": {
   "codemirror_mode": {
    "name": "ipython",
    "version": 2
   },
   "file_extension": ".py",
   "mimetype": "text/x-python",
   "name": "python",
   "nbconvert_exporter": "python",
   "pygments_lexer": "ipython2",
   "version": "2.7.6"
  }
 },
 "nbformat": 4,
 "nbformat_minor": 5
}
